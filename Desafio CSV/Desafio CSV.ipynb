{
 "cells": [
  {
   "cell_type": "code",
   "execution_count": 47,
   "metadata": {},
   "outputs": [
    {
     "name": "stdout",
     "output_type": "stream",
     "text": [
      "     Aluno  nota 1  nota 2  faltas\n",
      "0  Aluno 1       7       7       1\n",
      "1  Aluno 2       3      10       7\n",
      "2  Aluno 3       9       4       2\n",
      "3  Aluno 4      10       6       9\n"
     ]
    }
   ],
   "source": [
    "#Printando a tabela no editor de códigos\n",
    "\n",
    "import pandas as pd\n",
    "df = pd.read_csv(\"notas_alunos.csv\")\n",
    "\n",
    "print(df)\n"
   ]
  },
  {
   "cell_type": "code",
   "execution_count": 2,
   "metadata": {},
   "outputs": [
    {
     "name": "stdout",
     "output_type": "stream",
     "text": [
      "     Aluno  nota 1  nota 2  faltas  Média\n",
      "0  Aluno 1       7       7       1    7.0\n",
      "1  Aluno 2       3      10       7    6.5\n",
      "2  Aluno 3       9       4       2    6.5\n",
      "3  Aluno 4      10       6       9    8.0\n"
     ]
    }
   ],
   "source": [
    "#Adicionando a coluna de médias\n",
    "\n",
    "import pandas as pd\n",
    "df = pd.read_csv(\"notas_alunos.csv\")\n",
    "\n",
    "media = ((df[\"nota 1\"]) + (df[\"nota 2\"])) / 2\n",
    "df[\"Média\"] = media\n",
    "\n",
    "print(df)\n"
   ]
  },
  {
   "cell_type": "code",
   "execution_count": 6,
   "metadata": {},
   "outputs": [
    {
     "ename": "ValueError",
     "evalue": "The truth value of a Series is ambiguous. Use a.empty, a.bool(), a.item(), a.any() or a.all().",
     "output_type": "error",
     "traceback": [
      "\u001b[1;31m---------------------------------------------------------------------------\u001b[0m",
      "\u001b[1;31mValueError\u001b[0m                                Traceback (most recent call last)",
      "\u001b[1;32mc:\\Users\\Aluno 20\\Desktop\\Jupyter\\Desafio CSV.ipynb Célula: 3\u001b[0m in \u001b[0;36m<cell line: 9>\u001b[1;34m()\u001b[0m\n\u001b[0;32m      <a href='vscode-notebook-cell:/c%3A/Users/Aluno%2020/Desktop/Jupyter/Desafio%20CSV.ipynb#W3sZmlsZQ%3D%3D?line=5'>6</a>\u001b[0m media \u001b[39m=\u001b[39m ((df[\u001b[39m\"\u001b[39m\u001b[39mnota 1\u001b[39m\u001b[39m\"\u001b[39m]) \u001b[39m+\u001b[39m (df[\u001b[39m\"\u001b[39m\u001b[39mnota 2\u001b[39m\u001b[39m\"\u001b[39m])) \u001b[39m/\u001b[39m \u001b[39m2\u001b[39m\n\u001b[0;32m      <a href='vscode-notebook-cell:/c%3A/Users/Aluno%2020/Desktop/Jupyter/Desafio%20CSV.ipynb#W3sZmlsZQ%3D%3D?line=6'>7</a>\u001b[0m df[\u001b[39m\"\u001b[39m\u001b[39mMédia\u001b[39m\u001b[39m\"\u001b[39m] \u001b[39m=\u001b[39m media\n\u001b[1;32m----> <a href='vscode-notebook-cell:/c%3A/Users/Aluno%2020/Desktop/Jupyter/Desafio%20CSV.ipynb#W3sZmlsZQ%3D%3D?line=8'>9</a>\u001b[0m df\u001b[39m.\u001b[39mloc[df[\u001b[39m\"\u001b[39m\u001b[39mfaltas\u001b[39m\u001b[39m\"\u001b[39m] \u001b[39m<\u001b[39m\u001b[39m=\u001b[39m \u001b[39m5\u001b[39m \u001b[39mand\u001b[39;00m media \u001b[39m>\u001b[39m\u001b[39m=\u001b[39m \u001b[39m7\u001b[39m, \u001b[39m\"\u001b[39m\u001b[39msituacao\u001b[39m\u001b[39m\"\u001b[39m] \u001b[39m=\u001b[39m \u001b[39m\"\u001b[39m\u001b[39mAprovado\u001b[39m\u001b[39m\"\u001b[39m\n\u001b[0;32m     <a href='vscode-notebook-cell:/c%3A/Users/Aluno%2020/Desktop/Jupyter/Desafio%20CSV.ipynb#W3sZmlsZQ%3D%3D?line=9'>10</a>\u001b[0m df\u001b[39m.\u001b[39mloc[df[\u001b[39m\"\u001b[39m\u001b[39mfaltas\u001b[39m\u001b[39m\"\u001b[39m] \u001b[39m>\u001b[39m \u001b[39m5\u001b[39m, \u001b[39m\"\u001b[39m\u001b[39msituacao\u001b[39m\u001b[39m\"\u001b[39m] \u001b[39m=\u001b[39m \u001b[39m\"\u001b[39m\u001b[39mReprovado\u001b[39m\u001b[39m\"\u001b[39m\n\u001b[0;32m     <a href='vscode-notebook-cell:/c%3A/Users/Aluno%2020/Desktop/Jupyter/Desafio%20CSV.ipynb#W3sZmlsZQ%3D%3D?line=10'>11</a>\u001b[0m df\u001b[39m.\u001b[39mloc[media \u001b[39m<\u001b[39m \u001b[39m7\u001b[39m, \u001b[39m\"\u001b[39m\u001b[39msituacao\u001b[39m\u001b[39m\"\u001b[39m] \u001b[39m=\u001b[39m \u001b[39m\"\u001b[39m\u001b[39mReprovado\u001b[39m\u001b[39m\"\u001b[39m\n",
      "File \u001b[1;32mc:\\Users\\Aluno 20\\AppData\\Local\\Programs\\Python\\Python310\\lib\\site-packages\\pandas\\core\\generic.py:1527\u001b[0m, in \u001b[0;36mNDFrame.__nonzero__\u001b[1;34m(self)\u001b[0m\n\u001b[0;32m   1525\u001b[0m \u001b[39m@final\u001b[39m\n\u001b[0;32m   1526\u001b[0m \u001b[39mdef\u001b[39;00m \u001b[39m__nonzero__\u001b[39m(\u001b[39mself\u001b[39m):\n\u001b[1;32m-> 1527\u001b[0m     \u001b[39mraise\u001b[39;00m \u001b[39mValueError\u001b[39;00m(\n\u001b[0;32m   1528\u001b[0m         \u001b[39mf\u001b[39m\u001b[39m\"\u001b[39m\u001b[39mThe truth value of a \u001b[39m\u001b[39m{\u001b[39;00m\u001b[39mtype\u001b[39m(\u001b[39mself\u001b[39m)\u001b[39m.\u001b[39m\u001b[39m__name__\u001b[39m\u001b[39m}\u001b[39;00m\u001b[39m is ambiguous. \u001b[39m\u001b[39m\"\u001b[39m\n\u001b[0;32m   1529\u001b[0m         \u001b[39m\"\u001b[39m\u001b[39mUse a.empty, a.bool(), a.item(), a.any() or a.all().\u001b[39m\u001b[39m\"\u001b[39m\n\u001b[0;32m   1530\u001b[0m     )\n",
      "\u001b[1;31mValueError\u001b[0m: The truth value of a Series is ambiguous. Use a.empty, a.bool(), a.item(), a.any() or a.all()."
     ]
    }
   ],
   "source": [
    "#Adicionando a coluna de situação do aluno\n",
    "\n",
    "import pandas as pd\n",
    "df = pd.read_csv(\"notas_alunos.csv\")\n",
    "\n",
    "media = ((df[\"nota 1\"]) + (df[\"nota 2\"])) / 2\n",
    "df[\"Média\"] = media\n",
    "\n",
    "df.loc[df[\"faltas\"] <= 5 and media >= 7, \"situacao\"] = \"Aprovado\"\n",
    "df.loc[df[\"faltas\"] > 5, \"situacao\"] = \"Reprovado\"\n",
    "df.loc[media < 7, \"situacao\"] = \"Reprovado\"\n",
    "\n",
    "df[\"Alunos_situacao\"] = situacao\n",
    "\n",
    "print(df)\n",
    "print(df[\"faltas\"].max())\n",
    "print(df[\"Média\"].median())\n",
    "print(df[\"Média\"].max())"
   ]
  },
  {
   "cell_type": "code",
   "execution_count": 9,
   "metadata": {},
   "outputs": [
    {
     "name": "stdout",
     "output_type": "stream",
     "text": [
      "     Aluno  nota 1  nota 2  faltas  \\\n",
      "0  Aluno 1       7       7       1   \n",
      "1  Aluno 2       3      10       7   \n",
      "2  Aluno 3       9       4       2   \n",
      "3  Aluno 4      10       6       9   \n",
      "\n",
      "       Aluno  nota 1  nota 2  faltas\\n0  Aluno 1       7       7       1\\n1  Aluno 2       3      10       7\\n2  Aluno 3       9       4       2\\n3  Aluno 4      10       6       9  \\\n",
      "0                                           Aprovado                                                                                                                                   \n",
      "1                                                NaN                                                                                                                                   \n",
      "2                                           Aprovado                                                                                                                                   \n",
      "3                                                NaN                                                                                                                                   \n",
      "\n",
      "       Aluno  nota 1  nota 2  faltas  \\\\n0  Aluno 1       7       7       1   \\n1  Aluno 2       3      10       7   \\n2  Aluno 3       9       4       2   \\n3  Aluno 4      10       6       9   \\n\\n       Aluno  nota 1  nota 2  faltas\\n0  Aluno 1       7       7       1\\n1  Aluno 2       3      10       7\\n2  Aluno 3       9       4       2\\n3  Aluno 4      10       6       9  \\n0                                           Aprovado                                                                                                                                  \\n1                                                NaN                                                                                                                                  \\n2                                           Aprovado                                                                                                                                  \\n3                                                NaN                                                                                                                                    \\\n",
      "0                                                NaN                                                                                                                                                                                                                                                                                                                                                                                                                                                                                                                                                                                                                                                                                                                                                                                                                                                                                                                                                                                                                                                                                                            \n",
      "1                                          Reprovado                                                                                                                                                                                                                                                                                                                                                                                                                                                                                                                                                                                                                                                                                                                                                                                                                                                                                                                                                                                                                                                                                                            \n",
      "2                                                NaN                                                                                                                                                                                                                                                                                                                                                                                                                                                                                                                                                                                                                                                                                                                                                                                                                                                                                                                                                                                                                                                                                                            \n",
      "3                                          Reprovado                                                                                                                                                                                                                                                                                                                                                                                                                                                                                                                                                                                                                                                                                                                                                                                                                                                                                                                                                                                                                                                                                                            \n",
      "\n",
      "  Alunos_situacao  \n",
      "0   <class 'str'>  \n",
      "1   <class 'str'>  \n",
      "2   <class 'str'>  \n",
      "3   <class 'str'>  \n"
     ]
    }
   ],
   "source": [
    "import pandas as pd\n",
    "df = pd.read_csv(\"notas_alunos.csv\")\n",
    "\n",
    "situacao = str\n",
    "\n",
    "df.loc[df[\"faltas\"] <= 5, situacao] = \"Aprovado\"\n",
    "df.loc[df[\"faltas\"] > 5, situacao] = \"Reprovado\"\n",
    "\n",
    "df[\"Alunos_situacao\"] = situacao\n",
    "\n",
    "print(df)"
   ]
  }
 ],
 "metadata": {
  "kernelspec": {
   "display_name": "Python 3.10.5 64-bit",
   "language": "python",
   "name": "python3"
  },
  "language_info": {
   "codemirror_mode": {
    "name": "ipython",
    "version": 3
   },
   "file_extension": ".py",
   "mimetype": "text/x-python",
   "name": "python",
   "nbconvert_exporter": "python",
   "pygments_lexer": "ipython3",
   "version": "3.10.5"
  },
  "orig_nbformat": 4,
  "vscode": {
   "interpreter": {
    "hash": "56bda38965b620785de97e238ae87a930ab55941ef738c36575b41ed7fe519f8"
   }
  }
 },
 "nbformat": 4,
 "nbformat_minor": 2
}
