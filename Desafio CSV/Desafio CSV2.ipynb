{
 "cells": [
  {
   "cell_type": "code",
   "execution_count": null,
   "metadata": {},
   "outputs": [],
   "source": [
    "#Printando a tabela no editor de códigos\n",
    "\n",
    "import pandas as pd\n",
    "df = pd.read_csv(\"notas_alunos.csv\")\n",
    "\n",
    "print(df)\n"
   ]
  },
  {
   "cell_type": "code",
   "execution_count": null,
   "metadata": {},
   "outputs": [],
   "source": [
    "#Adicionando a coluna de médias\n",
    "\n",
    "import pandas as pd\n",
    "df = pd.read_csv(\"notas_alunos.csv\")\n",
    "\n",
    "media = ((df[\"nota 1\"]) + (df[\"nota 2\"])) / 2\n",
    "df[\"Média\"] = media\n",
    "\n",
    "print(df)"
   ]
  },
  {
   "cell_type": "code",
   "execution_count": null,
   "metadata": {},
   "outputs": [],
   "source": [
    "#Adicionando a coluna de situação do aluno\n",
    "\n",
    "import pandas as pd\n",
    "df = pd.read_csv(\"notas_alunos.csv\")\n",
    "\n",
    "media = ((df[\"nota 1\"]) + (df[\"nota 2\"])) / 2\n",
    "df[\"Média\"] = media\n",
    "\n",
    "df.loc[df[\"faltas\"] <= 5 and media >= 7, \"situacao\"] = \"Aprovado\"\n",
    "df.loc[df[\"faltas\"] > 5, \"situacao\"] = \"Reprovado\"\n",
    "df.loc[media < 7, \"situacao\"] = \"Reprovado\"\n",
    "\n",
    "df[\"Alunos_situacao\"] = situacao\n",
    "\n",
    "#Printando as informações finais na tela e salvando novo arquivo\n",
    "\n",
    "print(df)\n",
    "print(df[\"faltas\"].max())\n",
    "print(df[\"Média\"].median())\n",
    "print(df[\"Média\"].max())\n",
    "\n",
    "df.to_csv"
   ]
  }
 ],
 "metadata": {
  "kernelspec": {
   "display_name": "Python 3.10.5 64-bit",
   "language": "python",
   "name": "python3"
  },
  "language_info": {
   "name": "python",
   "version": "3.10.5"
  },
  "orig_nbformat": 4,
  "vscode": {
   "interpreter": {
    "hash": "bb16339d622d833763448844aa3d62a845dc5e8ebd6d4523acfdc29f21243b06"
   }
  }
 },
 "nbformat": 4,
 "nbformat_minor": 2
}
